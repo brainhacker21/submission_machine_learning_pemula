{
 "cells": [
  {
   "cell_type": "markdown",
   "metadata": {
    "id": "fKADPWcFKlj3"
   },
   "source": [
    "# **1. Import Library**"
   ]
  },
  {
   "cell_type": "markdown",
   "metadata": {
    "id": "LgA3ERnVn84N"
   },
   "source": [
    "Pada tahap ini, Anda perlu mengimpor beberapa pustaka (library) Python yang dibutuhkan untuk analisis data dan pembangunan model machine learning."
   ]
  },
  {
   "cell_type": "code",
   "execution_count": 3,
   "metadata": {
    "id": "0P_d20hxIo2W"
   },
   "outputs": [],
   "source": [
    "import pandas as pd\n",
    "import numpy as np\n",
    "import seaborn as sns\n",
    "import matplotlib.pyplot as plt\n",
    "from sklearn.model_selection import train_test_split\n",
    "from sklearn.tree import DecisionTreeClassifier\n",
    "from sklearn.ensemble import RandomForestClassifier\n",
    "from sklearn.model_selection import RandomizedSearchCV\n",
    "from sklearn.metrics import confusion_matrix, accuracy_score, precision_score, recall_score, f1_score"
   ]
  },
  {
   "cell_type": "markdown",
   "metadata": {
    "id": "f3YIEnAFKrKL"
   },
   "source": [
    "# **2. Memuat Dataset dari Hasil Clustering**"
   ]
  },
  {
   "cell_type": "markdown",
   "metadata": {
    "id": "Ey3ItwTen_7E"
   },
   "source": [
    "Memuat dataset hasil clustering dari file CSV ke dalam variabel DataFrame."
   ]
  },
  {
   "cell_type": "code",
   "execution_count": 6,
   "metadata": {
    "colab": {
     "base_uri": "https://localhost:8080/",
     "height": 228
    },
    "id": "GHCGNTyrM5fS",
    "outputId": "d03c2689-8a97-41eb-cbbf-e764dc323623"
   },
   "outputs": [
    {
     "data": {
      "text/html": [
       "<div>\n",
       "<style scoped>\n",
       "    .dataframe tbody tr th:only-of-type {\n",
       "        vertical-align: middle;\n",
       "    }\n",
       "\n",
       "    .dataframe tbody tr th {\n",
       "        vertical-align: top;\n",
       "    }\n",
       "\n",
       "    .dataframe thead th {\n",
       "        text-align: right;\n",
       "    }\n",
       "</style>\n",
       "<table border=\"1\" class=\"dataframe\">\n",
       "  <thead>\n",
       "    <tr style=\"text-align: right;\">\n",
       "      <th></th>\n",
       "      <th>provinsi</th>\n",
       "      <th>jenis</th>\n",
       "      <th>daerah</th>\n",
       "      <th>tahun</th>\n",
       "      <th>periode</th>\n",
       "      <th>gk</th>\n",
       "      <th>Cluster</th>\n",
       "    </tr>\n",
       "  </thead>\n",
       "  <tbody>\n",
       "    <tr>\n",
       "      <th>0</th>\n",
       "      <td>0</td>\n",
       "      <td>0</td>\n",
       "      <td>2</td>\n",
       "      <td>2015.0</td>\n",
       "      <td>0</td>\n",
       "      <td>293697.0</td>\n",
       "      <td>1</td>\n",
       "    </tr>\n",
       "    <tr>\n",
       "      <th>1</th>\n",
       "      <td>0</td>\n",
       "      <td>0</td>\n",
       "      <td>2</td>\n",
       "      <td>2015.0</td>\n",
       "      <td>1</td>\n",
       "      <td>302128.0</td>\n",
       "      <td>1</td>\n",
       "    </tr>\n",
       "    <tr>\n",
       "      <th>2</th>\n",
       "      <td>0</td>\n",
       "      <td>0</td>\n",
       "      <td>2</td>\n",
       "      <td>2016.0</td>\n",
       "      <td>0</td>\n",
       "      <td>306243.0</td>\n",
       "      <td>1</td>\n",
       "    </tr>\n",
       "    <tr>\n",
       "      <th>3</th>\n",
       "      <td>0</td>\n",
       "      <td>0</td>\n",
       "      <td>2</td>\n",
       "      <td>2016.0</td>\n",
       "      <td>1</td>\n",
       "      <td>319768.0</td>\n",
       "      <td>1</td>\n",
       "    </tr>\n",
       "    <tr>\n",
       "      <th>4</th>\n",
       "      <td>0</td>\n",
       "      <td>0</td>\n",
       "      <td>0</td>\n",
       "      <td>2015.0</td>\n",
       "      <td>0</td>\n",
       "      <td>297479.0</td>\n",
       "      <td>1</td>\n",
       "    </tr>\n",
       "  </tbody>\n",
       "</table>\n",
       "</div>"
      ],
      "text/plain": [
       "   provinsi  jenis  daerah   tahun  periode        gk  Cluster\n",
       "0         0      0       2  2015.0        0  293697.0        1\n",
       "1         0      0       2  2015.0        1  302128.0        1\n",
       "2         0      0       2  2016.0        0  306243.0        1\n",
       "3         0      0       2  2016.0        1  319768.0        1\n",
       "4         0      0       0  2015.0        0  297479.0        1"
      ]
     },
     "execution_count": 6,
     "metadata": {},
     "output_type": "execute_result"
    }
   ],
   "source": [
    "df = pd.read_csv('garisKemiskinan_clustering.csv')\n",
    "df.head()"
   ]
  },
  {
   "cell_type": "code",
   "execution_count": 7,
   "metadata": {
    "colab": {
     "base_uri": "https://localhost:8080/"
    },
    "id": "2DFwdO_wJGC-",
    "outputId": "4e6e3b30-26cb-44aa-f872-acce56cf97b6"
   },
   "outputs": [
    {
     "name": "stdout",
     "output_type": "stream",
     "text": [
      "<class 'pandas.core.frame.DataFrame'>\n",
      "RangeIndex: 5256 entries, 0 to 5255\n",
      "Data columns (total 7 columns):\n",
      " #   Column    Non-Null Count  Dtype  \n",
      "---  ------    --------------  -----  \n",
      " 0   provinsi  5256 non-null   int64  \n",
      " 1   jenis     5256 non-null   int64  \n",
      " 2   daerah    5256 non-null   int64  \n",
      " 3   tahun     5256 non-null   float64\n",
      " 4   periode   5256 non-null   int64  \n",
      " 5   gk        5256 non-null   float64\n",
      " 6   Cluster   5256 non-null   int64  \n",
      "dtypes: float64(2), int64(5)\n",
      "memory usage: 287.6 KB\n"
     ]
    }
   ],
   "source": [
    "df.info()"
   ]
  },
  {
   "cell_type": "markdown",
   "metadata": {
    "id": "KkPem5eWL2UP"
   },
   "source": [
    "# **3. Data Splitting**"
   ]
  },
  {
   "cell_type": "markdown",
   "metadata": {
    "id": "YYj1rl_JNI9Y"
   },
   "source": [
    "Tahap Data Splitting bertujuan untuk memisahkan dataset menjadi dua bagian: data latih (training set) dan data uji (test set)."
   ]
  },
  {
   "cell_type": "code",
   "execution_count": 10,
   "metadata": {
    "colab": {
     "base_uri": "https://localhost:8080/"
    },
    "id": "PnFjR9fYJO-O",
    "outputId": "36449156-f96e-4d69-ac8e-f170f2465c0d"
   },
   "outputs": [
    {
     "name": "stdout",
     "output_type": "stream",
     "text": [
      "Training set shape: X_train=(4204, 6), y_train=(4204,)\n",
      "Test set shape: X_test=(1052, 6), y_test=(1052,)\n"
     ]
    }
   ],
   "source": [
    "X = df.drop(columns=['Cluster'])\n",
    "y = df['Cluster']\n",
    "\n",
    "# Split data menjadi set pelatihan dan set uji\n",
    "X_train, X_test, y_train, y_test = train_test_split(X, y, test_size=0.2, stratify=y, random_state=42)\n",
    "\n",
    "print(f\"Training set shape: X_train={X_train.shape}, y_train={y_train.shape}\")\n",
    "print(f\"Test set shape: X_test={X_test.shape}, y_test={y_test.shape}\")"
   ]
  },
  {
   "cell_type": "markdown",
   "metadata": {
    "id": "IVPbB03CMhTT"
   },
   "source": [
    "# **4. Membangun Model Klasifikasi**\n"
   ]
  },
  {
   "cell_type": "markdown",
   "metadata": {
    "id": "Ned1pL9zMmBK"
   },
   "source": [
    "## **a. Membangun Model Klasifikasi**"
   ]
  },
  {
   "cell_type": "markdown",
   "metadata": {
    "id": "WAWzPOE4Nkti"
   },
   "source": [
    "Setelah memilih algoritma klasifikasi yang sesuai, langkah selanjutnya adalah melatih model menggunakan data latih.\n",
    "\n",
    "Berikut adalah rekomendasi tahapannya.\n",
    "1. Pilih algoritma klasifikasi yang sesuai, seperti Logistic Regression, Decision Tree, Random Forest, atau K-Nearest Neighbors (KNN).\n",
    "2. Latih model menggunakan data latih."
   ]
  },
  {
   "cell_type": "code",
   "execution_count": 14,
   "metadata": {
    "colab": {
     "base_uri": "https://localhost:8080/"
    },
    "id": "tlqdOipkJcPq",
    "outputId": "4fbe63ef-d5dd-45cb-9df0-2a7e17113fc7"
   },
   "outputs": [
    {
     "name": "stdout",
     "output_type": "stream",
     "text": [
      "Model training selesai.\n"
     ]
    }
   ],
   "source": [
    "dt = DecisionTreeClassifier(max_depth=1, min_samples_split=20, min_samples_leaf=10, random_state=0).fit(X_train, y_train)\n",
    "rf = RandomForestClassifier(max_depth=2, n_estimators=25, random_state=0).fit(X_train, y_train)\n",
    "\n",
    "print(\"Model training selesai.\")"
   ]
  },
  {
   "cell_type": "markdown",
   "metadata": {
    "id": "seYoHNY3XU1y"
   },
   "source": [
    "Tulis narasi atau penjelasan algoritma yang Anda gunakan."
   ]
  },
  {
   "cell_type": "markdown",
   "metadata": {},
   "source": [
    "Decision Tree Classifier: Membangun pohon keputusan dengan kedalaman terbatas (max_depth=1), memastikan pembelahan hanya terjadi jika ada minimal 20 sampel untuk split dan minimal 10 sampel di setiap daun untuk menghindari overfitting.\n",
    "\n",
    "Random Forest Classifier: Menggunakan 25 pohon keputusan (n_estimators=25) dengan kedalaman terbatas (max_depth=2), yang menggabungkan prediksi dari banyak pohon untuk meningkatkan akurasi dan mengurangi overfitting."
   ]
  },
  {
   "cell_type": "markdown",
   "metadata": {
    "id": "ergzChZFEL-O"
   },
   "source": [
    "## **b. Evaluasi Model Klasifikasi**"
   ]
  },
  {
   "cell_type": "markdown",
   "metadata": {
    "id": "zOm68u-7NpLT"
   },
   "source": [
    "Berikut adalah **rekomendasi** tahapannya.\n",
    "1. Lakukan prediksi menggunakan data uji.\n",
    "2. Hitung metrik evaluasi seperti Accuracy dan F1-Score (Opsional: Precision dan Recall).\n",
    "3. Buat confusion matrix untuk melihat detail prediksi benar dan salah."
   ]
  },
  {
   "cell_type": "code",
   "execution_count": 19,
   "metadata": {
    "colab": {
     "base_uri": "https://localhost:8080/",
     "height": 183
    },
    "id": "L0IGuvNWJigc",
    "outputId": "aafe1068-3081-4253-ccdb-251664863621"
   },
   "outputs": [
    {
     "name": "stderr",
     "output_type": "stream",
     "text": [
      "C:\\Users\\Auric\\anaconda3\\Lib\\site-packages\\sklearn\\metrics\\_classification.py:1531: UndefinedMetricWarning: Precision is ill-defined and being set to 0.0 in labels with no predicted samples. Use `zero_division` parameter to control this behavior.\n",
      "  _warn_prf(average, modifier, f\"{metric.capitalize()} is\", len(result))\n"
     ]
    },
    {
     "data": {
      "text/html": [
       "<div>\n",
       "<style scoped>\n",
       "    .dataframe tbody tr th:only-of-type {\n",
       "        vertical-align: middle;\n",
       "    }\n",
       "\n",
       "    .dataframe tbody tr th {\n",
       "        vertical-align: top;\n",
       "    }\n",
       "\n",
       "    .dataframe thead th {\n",
       "        text-align: right;\n",
       "    }\n",
       "</style>\n",
       "<table border=\"1\" class=\"dataframe\">\n",
       "  <thead>\n",
       "    <tr style=\"text-align: right;\">\n",
       "      <th></th>\n",
       "      <th>Model</th>\n",
       "      <th>Accuracy</th>\n",
       "      <th>Precision</th>\n",
       "      <th>Recall</th>\n",
       "      <th>F1-Score</th>\n",
       "    </tr>\n",
       "  </thead>\n",
       "  <tbody>\n",
       "    <tr>\n",
       "      <th>0</th>\n",
       "      <td>Decision Tree</td>\n",
       "      <td>0.692015</td>\n",
       "      <td>0.529281</td>\n",
       "      <td>0.692015</td>\n",
       "      <td>0.58554</td>\n",
       "    </tr>\n",
       "    <tr>\n",
       "      <th>1</th>\n",
       "      <td>Random Forest</td>\n",
       "      <td>1.000000</td>\n",
       "      <td>1.000000</td>\n",
       "      <td>1.000000</td>\n",
       "      <td>1.00000</td>\n",
       "    </tr>\n",
       "  </tbody>\n",
       "</table>\n",
       "</div>"
      ],
      "text/plain": [
       "           Model  Accuracy  Precision    Recall  F1-Score\n",
       "0  Decision Tree  0.692015   0.529281  0.692015   0.58554\n",
       "1  Random Forest  1.000000   1.000000  1.000000   1.00000"
      ]
     },
     "execution_count": 19,
     "metadata": {},
     "output_type": "execute_result"
    }
   ],
   "source": [
    "model_results = {\n",
    "    'Model': ['Decision Tree', 'Random Forest'],\n",
    "    'Accuracy': [],\n",
    "    'Precision': [],\n",
    "    'Recall': [],\n",
    "    'F1-Score': [],\n",
    "}\n",
    "\n",
    "models = [dt, rf]\n",
    "for model in models:\n",
    "    y_pred = model.predict(X_test)\n",
    "\n",
    "    model_results['Accuracy'].append(accuracy_score(y_test, y_pred))\n",
    "    model_results['Precision'].append(precision_score(y_test, y_pred, average='weighted'))\n",
    "    model_results['Recall'].append(recall_score(y_test, y_pred, average='weighted'))\n",
    "    model_results['F1-Score'].append(f1_score(y_test, y_pred, average='weighted'))\n",
    "\n",
    "    cm = confusion_matrix(y_test, y_pred)\n",
    "\n",
    "df_metrics = pd.DataFrame(model_results)\n",
    "df_metrics"
   ]
  },
  {
   "cell_type": "code",
   "execution_count": 20,
   "metadata": {
    "colab": {
     "base_uri": "https://localhost:8080/",
     "height": 803
    },
    "id": "d_6MUllOaBkW",
    "outputId": "d2009dbd-1e55-4218-f8cc-d69ab282802b"
   },
   "outputs": [
    {
     "data": {
      "image/png": "[encoded data removed]",
      "text/plain": [
       "<Figure size 600x400 with 2 Axes>"
      ]
     },
     "metadata": {},
     "output_type": "display_data"
    },
    {
     "data": {
      "image/png": "[encoded data removed]",
      "text/plain": [
       "<Figure size 600x400 with 2 Axes>"
      ]
     },
     "metadata": {},
     "output_type": "display_data"
    }
   ],
   "source": [
    "for i, model in enumerate(models):\n",
    "    plt.figure(figsize=(6, 4))\n",
    "    sns.heatmap(cm, annot=True, fmt=\"d\", cmap=\"Blues\", xticklabels=model.classes_, yticklabels=model.classes_)\n",
    "    plt.title(f\"Confusion Matrix for {model_results['Model'][i]}\")\n",
    "    plt.xlabel(\"Predicted\")\n",
    "    plt.ylabel(\"True\")\n",
    "    plt.show()"
   ]
  },
  {
   "cell_type": "markdown",
   "metadata": {
    "id": "H4_9OwrsXZlz"
   },
   "source": [
    "Tulis hasil evaluasi algoritma yang digunakan, jika Anda menggunakan 2 algoritma, maka bandingkan hasilnya."
   ]
  },
  {
   "cell_type": "markdown",
   "metadata": {},
   "source": [
    "Melakukan hasil uji pertama, model Random Forest menunjukkan kinerja yang sangat baik dengan nilai akurasi 100%, \n",
    "sedangkan model Decision Tree memiliki performa yang lebih rendah, dengan hasil yang kurang memuaskan di semua metrik evaluasi dengan alias underfitting."
   ]
  },
  {
   "cell_type": "markdown",
   "metadata": {
    "id": "ph9yIYDXEPuB"
   },
   "source": [
    "## **c. Tuning Model Klasifikasi (Optional)**"
   ]
  },
  {
   "cell_type": "markdown",
   "metadata": {
    "id": "-Bikx3LINv5e"
   },
   "source": [
    "Gunakan GridSearchCV, RandomizedSearchCV, atau metode lainnya untuk mencari kombinasi hyperparameter terbaik"
   ]
  },
  {
   "cell_type": "code",
   "execution_count": 24,
   "metadata": {
    "colab": {
     "base_uri": "https://localhost:8080/"
    },
    "id": "winbFzb8NL95",
    "outputId": "aa882d34-c517-474f-a146-decf4e91d04d"
   },
   "outputs": [
    {
     "name": "stdout",
     "output_type": "stream",
     "text": [
      "Best parameters for Decision Tree: {'min_samples_split': 2, 'min_samples_leaf': 5, 'max_depth': None}\n",
      "Best cross-validation score for Decision Tree: 1.0\n",
      "Test set score for Decision Tree (RandomizedSearch): 1.0\n"
     ]
    }
   ],
   "source": [
    "param_dist_dt = {\n",
    "    'max_depth': [1, 3, 5, 10, None],\n",
    "    'min_samples_split': [2, 10, 20],\n",
    "    'min_samples_leaf': [1, 5, 10],\n",
    "}\n",
    "\n",
    "random_search_dt = RandomizedSearchCV(DecisionTreeClassifier(random_state=0), param_dist_dt, n_iter=10, cv=5, random_state=42, scoring='accuracy')\n",
    "random_search_dt.fit(X_train, y_train)\n",
    "\n",
    "print(\"Best parameters for Decision Tree:\", random_search_dt.best_params_)\n",
    "print(\"Best cross-validation score for Decision Tree:\", random_search_dt.best_score_)\n",
    "\n",
    "best_dt_random = random_search_dt.best_estimator_\n",
    "dt_test_score_random = best_dt_random.score(X_test, y_test)\n",
    "print(\"Test set score for Decision Tree (RandomizedSearch):\", dt_test_score_random)\n"
   ]
  },
  {
   "cell_type": "code",
   "execution_count": 25,
   "metadata": {
    "colab": {
     "base_uri": "https://localhost:8080/"
    },
    "id": "kHWfqhxMaM9Q",
    "outputId": "75fcc92a-c894-4cef-effc-50b307ced169"
   },
   "outputs": [
    {
     "name": "stdout",
     "output_type": "stream",
     "text": [
      "Best parameters for Random Forest: {'n_estimators': 50, 'min_samples_split': 20, 'min_samples_leaf': 1, 'max_depth': None}\n",
      "Best cross-validation score for Random Forest: 1.0\n",
      "Test set score for Random Forest (RandomizedSearch): 1.0\n"
     ]
    }
   ],
   "source": [
    "param_dist_rf = {\n",
    "    'n_estimators': [10, 50, 100, 200],\n",
    "    'max_depth': [3, 5, 10, None],\n",
    "    'min_samples_split': [2, 10, 20],\n",
    "    'min_samples_leaf': [1, 5, 10],\n",
    "}\n",
    "\n",
    "random_search_rf = RandomizedSearchCV(RandomForestClassifier(random_state=0), param_dist_rf, n_iter=10, cv=5, random_state=42, scoring='accuracy')\n",
    "random_search_rf.fit(X_train, y_train)\n",
    "\n",
    "print(\"Best parameters for Random Forest:\", random_search_rf.best_params_)\n",
    "print(\"Best cross-validation score for Random Forest:\", random_search_rf.best_score_)\n",
    "\n",
    "best_rf_random = random_search_rf.best_estimator_\n",
    "rf_test_score_random = best_rf_random.score(X_test, y_test)\n",
    "print(\"Test set score for Random Forest (RandomizedSearch):\", rf_test_score_random)"
   ]
  },
  {
   "cell_type": "markdown",
   "metadata": {
    "id": "hE7pqlEPEYzI"
   },
   "source": [
    "## **d. Evaluasi Model Klasifikasi setelah Tuning (Optional)**"
   ]
  },
  {
   "cell_type": "markdown",
   "metadata": {
    "id": "feaPESoeN0zz"
   },
   "source": [
    "Berikut adalah rekomendasi tahapannya.\n",
    "1. Gunakan model dengan hyperparameter terbaik.\n",
    "2. Hitung ulang metrik evaluasi untuk melihat apakah ada peningkatan performa."
   ]
  },
  {
   "cell_type": "code",
   "execution_count": 28,
   "metadata": {
    "colab": {
     "base_uri": "https://localhost:8080/",
     "height": 125
    },
    "id": "HTXZRvEeNMb1",
    "outputId": "0f9f8ad9-fd22-4450-c47b-1b246514d159"
   },
   "outputs": [
    {
     "data": {
      "text/html": [
       "<div>\n",
       "<style scoped>\n",
       "    .dataframe tbody tr th:only-of-type {\n",
       "        vertical-align: middle;\n",
       "    }\n",
       "\n",
       "    .dataframe tbody tr th {\n",
       "        vertical-align: top;\n",
       "    }\n",
       "\n",
       "    .dataframe thead th {\n",
       "        text-align: right;\n",
       "    }\n",
       "</style>\n",
       "<table border=\"1\" class=\"dataframe\">\n",
       "  <thead>\n",
       "    <tr style=\"text-align: right;\">\n",
       "      <th></th>\n",
       "      <th>Model</th>\n",
       "      <th>Accuracy</th>\n",
       "      <th>Precision</th>\n",
       "      <th>Recall</th>\n",
       "      <th>F1-Score</th>\n",
       "    </tr>\n",
       "  </thead>\n",
       "  <tbody>\n",
       "    <tr>\n",
       "      <th>0</th>\n",
       "      <td>Decision Tree</td>\n",
       "      <td>1.0</td>\n",
       "      <td>1.0</td>\n",
       "      <td>1.0</td>\n",
       "      <td>1.0</td>\n",
       "    </tr>\n",
       "    <tr>\n",
       "      <th>1</th>\n",
       "      <td>Random Forest</td>\n",
       "      <td>1.0</td>\n",
       "      <td>1.0</td>\n",
       "      <td>1.0</td>\n",
       "      <td>1.0</td>\n",
       "    </tr>\n",
       "  </tbody>\n",
       "</table>\n",
       "</div>"
      ],
      "text/plain": [
       "           Model  Accuracy  Precision  Recall  F1-Score\n",
       "0  Decision Tree       1.0        1.0     1.0       1.0\n",
       "1  Random Forest       1.0        1.0     1.0       1.0"
      ]
     },
     "execution_count": 28,
     "metadata": {},
     "output_type": "execute_result"
    }
   ],
   "source": [
    "# Hasil evaluasi untuk Decision Tree dan Random Forest setelah tuning\n",
    "y_pred_dt = best_dt_random.predict(X_test)\n",
    "y_pred_rf = best_rf_random.predict(X_test)\n",
    "\n",
    "accuracy_dt = accuracy_score(y_test, y_pred_dt)\n",
    "precision_dt = precision_score(y_test, y_pred_dt, average='weighted')\n",
    "recall_dt = recall_score(y_test, y_pred_dt, average='weighted')\n",
    "f1_dt = f1_score(y_test, y_pred_dt, average='weighted')\n",
    "\n",
    "accuracy_rf = accuracy_score(y_test, y_pred_rf)\n",
    "precision_rf = precision_score(y_test, y_pred_rf, average='weighted')\n",
    "recall_rf = recall_score(y_test, y_pred_rf, average='weighted')\n",
    "f1_rf = f1_score(y_test, y_pred_rf, average='weighted')\n",
    "\n",
    "model_results = {\n",
    "    'Model': ['Decision Tree', 'Random Forest'],\n",
    "    'Accuracy': [accuracy_dt, accuracy_rf],\n",
    "    'Precision': [precision_dt, precision_rf],\n",
    "    'Recall': [recall_dt, recall_rf],\n",
    "    'F1-Score': [f1_dt, f1_rf]\n",
    "}\n",
    "\n",
    "df_metrics = pd.DataFrame(model_results)\n",
    "df_metrics"
   ]
  },
  {
   "cell_type": "markdown",
   "metadata": {
    "id": "ZRsOdm4uEgAW"
   },
   "source": [
    "## **e. Analisis Hasil Evaluasi Model Klasifikasi**"
   ]
  },
  {
   "cell_type": "markdown",
   "metadata": {
    "id": "Hm3BhSi6N4_l"
   },
   "source": [
    "Berikut adalah **rekomendasi** tahapannya.\n",
    "1. Bandingkan hasil evaluasi sebelum dan setelah tuning (jika dilakukan).\n",
    "2. Identifikasi kelemahan model, seperti:\n",
    "  - Precision atau Recall rendah untuk kelas tertentu.\n",
    "  - Apakah model mengalami overfitting atau underfitting?\n",
    "3. Berikan rekomendasi tindakan lanjutan, seperti mengumpulkan data tambahan atau mencoba algoritma lain jika hasil belum memuaskan."
   ]
  },
  {
   "cell_type": "markdown",
   "metadata": {
    "id": "-2fmqnmotTbF"
   },
   "source": []
  },
  {
   "cell_type": "markdown",
   "metadata": {
    "id": "NbHjrc8ntUDV"
   },
   "source": [
    "Berikut adalah **rekomendasi** tahapannya.\n",
    "1. Bandingkan hasil evaluasi sebelum dan setelah tuning (jika dilakukan).\n",
    "\n",
    "jawab:\n",
    "Sebelum dilakukan tuning, model Random Forest menunjukkan kinerja yang sangat baik dengan nilai akurasi 100%, sedangkan model Decision Tree memiliki performa yang lebih rendah, dengan hasil yang kurang memuaskan di semua metrik evaluasi.\n",
    "\n",
    "Setelah tuning, kedua model menunjukkan hasil yang luar biasa, dengan nilai 1 di seluruh metrik evaluasi. Namun, hal ini dapat mengindikasikan potensi overfitting, karena meskipun performa di data pelatihan sangat baik, model mungkin tidak akan mampu beradaptasi dengan data baru secara optimal.\n",
    "\n",
    "2. Identifikasi kelemahan model, seperti:\n",
    "  - Precision atau Recall rendah untuk kelas tertentu.\n",
    "  - Apakah model mengalami overfitting atau underfitting?\n",
    "\n",
    "jawab:\n",
    "Setelah proses tuning, meskipun kedua model (Decision Tree dan Random Forest) menunjukkan hasil yang sempurna di semua metrik evaluasi, hal ini berpotensi mengindikasikan adanya overfitting. Model-model tersebut kemungkinan terlalu disesuaikan dengan data pelatihan dan tidak akan bekerja secara efektif pada data yang belum pernah dilihat sebelumnya.\n",
    "\n",
    "3. Berikan rekomendasi tindakan lanjutan, seperti mengumpulkan data tambahan atau mencoba algoritma lain jika hasil belum memuaskan.\n",
    "\n",
    "jawab: Salah satu langkah yang bisa diambil adalah dengan mengumpulkan lebih banyak data yang beragam untuk membantu model dalam melakukan generalisasi yang lebih baik. Selain itu, mencoba lebih lanjut dalam melakukan tuning pada hyperparameter atau mempertimbangkan penggunaan algoritma lain, seperti Support Vector Machine (SVM) atau Gradient Boosting, dapat memberikan hasil yang lebih konsisten dan stabil.\n"
   ]
  },
  {
   "cell_type": "code",
   "execution_count": 33,
   "metadata": {
    "colab": {
     "base_uri": "https://localhost:8080/"
    },
    "id": "KcKZbN8jkid_",
    "outputId": "7d99dcf2-d9fb-4c68-c2b5-e463b049d4ca"
   },
   "outputs": [
    {
     "name": "stdout",
     "output_type": "stream",
     "text": [
      "   provinsi  jenis  daerah   tahun  periode        gk  Cluster\n",
      "0         0      0       2  2015.0        0  293697.0        1\n",
      "1         0      0       2  2015.0        1  302128.0        1\n",
      "2         0      0       2  2016.0        0  306243.0        1\n",
      "3         0      0       2  2016.0        1  319768.0        1\n",
      "4         0      0       0  2015.0        0  297479.0        1\n"
     ]
    }
   ],
   "source": [
    "# Memeriksa dataset\n",
    "print(df.head())\n",
    "\n",
    "# Misalnya, kamu bisa memisahkan fitur dan label untuk klasifikasi\n",
    "X = df.drop(columns=['Cluster'])  # Fitur\n",
    "y = df['Cluster']  # Label cluster sebagai target\n"
   ]
  }
 ],
 "metadata": {
  "colab": {
   "provenance": []
  },
  "kernelspec": {
   "display_name": "Python [conda env:base] *",
   "language": "python",
   "name": "conda-base-py"
  },
  "language_info": {
   "codemirror_mode": {
    "name": "ipython",
    "version": 3
   },
   "file_extension": ".py",
   "mimetype": "text/x-python",
   "name": "python",
   "nbconvert_exporter": "python",
   "pygments_lexer": "ipython3",
   "version": "3.12.7"
  }
 },
 "nbformat": 4,
 "nbformat_minor": 4
}
